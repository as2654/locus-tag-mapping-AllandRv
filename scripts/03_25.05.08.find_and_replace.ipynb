{
 "cells": [
  {
   "cell_type": "code",
   "execution_count": 1,
   "id": "7e398252-9f30-4f8b-9289-92bc024f49fb",
   "metadata": {},
   "outputs": [],
   "source": [
    "\"\"\"\n",
    "This script will use the best best hits from the old reference BLASTed\n",
    "against the new reference to determine unique Rv number locus tag mappings \n",
    "to the Alland reference.\n",
    "\n",
    "OLD - GCF_000195955.2\n",
    "NEW - GCF_026185275.1\n",
    "\n",
    "Avi Shah, May 8th 2025\n",
    "W. Evan Johnson Lab\n",
    "\"\"\"\n",
    "\n",
    "import pandas as pd\n"
   ]
  },
  {
   "cell_type": "code",
   "execution_count": 2,
   "id": "a65b463e-ca6c-4421-807f-e63c4bf71bec",
   "metadata": {},
   "outputs": [
    {
     "name": "stdout",
     "output_type": "stream",
     "text": [
      "         seqname            source      feature  start   end score strand  \\\n",
      "0  NZ_CP110619.1            RefSeq         gene      1  1524     .      +   \n",
      "1  NZ_CP110619.1  Protein Homology          CDS      1  1521     .      +   \n",
      "2  NZ_CP110619.1  Protein Homology  start_codon      1     3     .      +   \n",
      "3  NZ_CP110619.1  Protein Homology   stop_codon   1522  1524     .      +   \n",
      "4  NZ_CP110619.1            RefSeq         gene   2052  3260     .      +   \n",
      "\n",
      "  frame                                          attribute  \n",
      "0     .  gene_id \"M7V54_RS00005\"; transcript_id \"\"; gbk...  \n",
      "1     0  gene_id \"M7V54_RS00005\"; transcript_id \"unassi...  \n",
      "2     0  gene_id \"M7V54_RS00005\"; transcript_id \"unassi...  \n",
      "3     0  gene_id \"M7V54_RS00005\"; transcript_id \"unassi...  \n",
      "4     .  gene_id \"M7V54_RS00010\"; transcript_id \"\"; gbk...  \n",
      "['seqname', 'source', 'feature', 'start', 'end', 'score', 'strand', 'frame', 'attribute']\n"
     ]
    }
   ],
   "source": [
    "\n",
    "gtf_path = 'GCF_026185275.1_ASM2618527v1_genomic.gtf' \n",
    "gtf_df = pd.read_csv(gtf_path, sep='\\t', header=None, comment='#')\n",
    "\n",
    "# Assign standard GTF column names\n",
    "gtf_df.columns = ['seqname', 'source', 'feature', 'start', 'end', 'score', 'strand', 'frame', 'attribute']\n",
    "\n",
    "# View the first few rows\n",
    "print(gtf_df.head())\n",
    "\n",
    "# Check column names\n",
    "print(gtf_df.columns.tolist())\n"
   ]
  },
  {
   "cell_type": "code",
   "execution_count": 3,
   "id": "26bb0b43-4637-4ed5-bc97-9b7047c6d381",
   "metadata": {
    "scrolled": true
   },
   "outputs": [
    {
     "name": "stdout",
     "output_type": "stream",
     "text": [
      "gene_id \"M7V54_RS00005\"; transcript_id \"\"; gbkey \"Gene\"; gene \"dnaA\"; gene_biotype \"protein_coding\"; locus_tag \"M7V54_RS00005\"; \n",
      "gene_id \"M7V54_RS00005\"; transcript_id \"unassigned_transcript_1\"; Ontology_term \"GO:0006275\"; Ontology_term \"GO:0003688\"; Ontology_term \"GO:0005524\"; Ontology_term \"GO:0043565\"; db_xref \"GenBank:WP_003400253.1\"; gbkey \"CDS\"; gene \"dnaA\"; go_function \"DNA replication origin binding|0003688||IEA\"; go_function \"ATP binding|0005524||IEA\"; go_function \"sequence-specific DNA binding|0043565||IEA\"; go_process \"regulation of DNA replication|0006275||IEA\"; inference \"COORDINATES: similar to AA sequence:RefSeq:NP_214515.1\"; locus_tag \"M7V54_RS00005\"; product \"chromosomal replication initiator protein DnaA\"; protein_id \"WP_003400253.1\"; transl_table \"11\"; exon_number \"1\"; \n",
      "gene_id \"M7V54_RS00005\"; transcript_id \"unassigned_transcript_1\"; Ontology_term \"GO:0006275\"; Ontology_term \"GO:0003688\"; Ontology_term \"GO:0005524\"; Ontology_term \"GO:0043565\"; db_xref \"GenBank:WP_003400253.1\"; gbkey \"CDS\"; gene \"dnaA\"; go_function \"DNA replication origin binding|0003688||IEA\"; go_function \"ATP binding|0005524||IEA\"; go_function \"sequence-specific DNA binding|0043565||IEA\"; go_process \"regulation of DNA replication|0006275||IEA\"; inference \"COORDINATES: similar to AA sequence:RefSeq:NP_214515.1\"; locus_tag \"M7V54_RS00005\"; product \"chromosomal replication initiator protein DnaA\"; protein_id \"WP_003400253.1\"; transl_table \"11\"; exon_number \"1\"; \n"
     ]
    }
   ],
   "source": [
    "for v in gtf_df['attribute'][:3]:\n",
    "    print(v)"
   ]
  },
  {
   "cell_type": "code",
   "execution_count": 5,
   "id": "aafb661c-b7f6-4acb-acc8-85bbf76842bc",
   "metadata": {},
   "outputs": [
    {
     "name": "stdout",
     "output_type": "stream",
     "text": [
      "Processed 16494 rows. Output written to fixed_gtf_for_pam.gtf\n"
     ]
    }
   ],
   "source": [
    "import pandas as pd\n",
    "import re\n",
    "\n",
    "# Read the mapping TSV into a dictionary\n",
    "def read_mapping(mapping_file):\n",
    "    mapping_df = pd.read_csv(mapping_file, sep='\\t')\n",
    "    return dict(zip(mapping_df['new_locus_tag'], mapping_df['old_locus_tag']))\n",
    "\n",
    "# Function to replace locus_tag in attribute strings\n",
    "def replace_locus_tag(attr_str, mapping):\n",
    "    # Pattern to find locus_tag \"value\" in the attribute string\n",
    "    pattern = r'locus_tag \"([^\"]+)\"'\n",
    "    \n",
    "    def replacer(match):\n",
    "        old_value = match.group(1)\n",
    "        # Replace if in mapping\n",
    "        if old_value in mapping:\n",
    "            return f'locus_tag \"{mapping[old_value]}\"'\n",
    "        else:\n",
    "            return match.group(0)\n",
    "    \n",
    "    # Replace all occurrences\n",
    "    return re.sub(pattern, replacer, attr_str)\n",
    "\n",
    "# Main function to process GTF file\n",
    "def process_gtf(gtf_file, mapping_file, output_file):\n",
    "    # Read mapping\n",
    "    mapping_dict = read_mapping(mapping_file)\n",
    "    \n",
    "    # Read GTF file\n",
    "    gtf_df = pd.read_csv(gtf_file, sep='\\t', header=None, comment='#')\n",
    "    gtf_df.columns = ['seqname', 'source', 'feature', 'start', 'end', \n",
    "                      'score', 'strand', 'frame', 'attribute']\n",
    "    \n",
    "    # Apply replacement to each attribute string\n",
    "    gtf_df['attribute'] = gtf_df['attribute'].apply(\n",
    "        lambda attr: replace_locus_tag(attr, mapping_dict)\n",
    "    )\n",
    "    \n",
    "    # Write updated GTF file\n",
    "    gtf_df.to_csv(output_file, sep='\\t', header=False, index=False, quoting=3)\n",
    "    \n",
    "    return len(gtf_df)\n",
    "\n",
    "\n",
    "mapping_file = \"intermed_GCF_026185275.1_ASM2618527v1_genomic_locus_tags_from_GCF_000195955.2_ASM19595v2_genomic.tsv\"\n",
    "outfile = \"fixed_gtf_for_pam.gtf\"\n",
    "rows_processed = process_gtf(gtf_path, mapping_file, outfile)\n",
    "print(f\"Processed {rows_processed} rows. Output written to {outfile}\")\n",
    "\n"
   ]
  },
  {
   "cell_type": "code",
   "execution_count": null,
   "id": "75d8f7b2-d1ba-4219-8e3e-a282c0e7bb96",
   "metadata": {},
   "outputs": [],
   "source": []
  }
 ],
 "metadata": {
  "kernelspec": {
   "display_name": "Python 3 (ipykernel)",
   "language": "python",
   "name": "python3"
  },
  "language_info": {
   "codemirror_mode": {
    "name": "ipython",
    "version": 3
   },
   "file_extension": ".py",
   "mimetype": "text/x-python",
   "name": "python",
   "nbconvert_exporter": "python",
   "pygments_lexer": "ipython3",
   "version": "3.12.9"
  }
 },
 "nbformat": 4,
 "nbformat_minor": 5
}
