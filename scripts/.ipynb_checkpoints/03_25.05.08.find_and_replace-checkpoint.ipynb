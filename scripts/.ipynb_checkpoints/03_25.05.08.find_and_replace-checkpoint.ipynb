{
 "cells": [
  {
   "cell_type": "code",
   "execution_count": null,
   "id": "7e398252-9f30-4f8b-9289-92bc024f49fb",
   "metadata": {},
   "outputs": [],
   "source": [
    "\"\"\"\n",
    "This script will use the best best hits from the old reference BLASTed\n",
    "against the new reference to determine unique Rv number locus tag mappings \n",
    "to the Alland reference.\n",
    "\n",
    "OLD - GCF_000195955.2\n",
    "NEW - GCF_026185275.1\n",
    "\n",
    "Avi Shah, May 8th 2025\n",
    "W. Evan Johnson Lab\n",
    "\"\"\""
   ]
  }
 ],
 "metadata": {
  "kernelspec": {
   "display_name": "Python 3 (ipykernel)",
   "language": "python",
   "name": "python3"
  },
  "language_info": {
   "codemirror_mode": {
    "name": "ipython",
    "version": 3
   },
   "file_extension": ".py",
   "mimetype": "text/x-python",
   "name": "python",
   "nbconvert_exporter": "python",
   "pygments_lexer": "ipython3",
   "version": "3.12.9"
  }
 },
 "nbformat": 4,
 "nbformat_minor": 5
}
