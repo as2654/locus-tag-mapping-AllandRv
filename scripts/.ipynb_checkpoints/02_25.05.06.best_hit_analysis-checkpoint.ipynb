{
 "cells": [
  {
   "cell_type": "code",
   "execution_count": 1,
   "id": "233ecb90-5d61-46e1-b972-819f5dd0c5c7",
   "metadata": {},
   "outputs": [],
   "source": [
    "\"\"\"\n",
    "This script will parse the results of the reciprocal best hit (RBH) analysis done \n",
    "using the ncbi-blast+ suite.\n",
    "\n",
    "Are we really looking for reciprocal best hits, or the most appropriate replacements \n",
    "for each new locus tag? I think the latter, so the best hits we need are actually \n",
    "unidirectional in a sense. - Avi 5/7/25\n",
    "\n",
    "OLD - GCF_000195955.2\n",
    "NEW - GCF_026185275.1\n",
    "\n",
    "Avi Shah, May 6th 2025\n",
    "W. Evan Johnson Lab\n",
    "\n",
    "\"\"\"\n",
    "import pandas as pd\n",
    "from collections import defaultdict\n"
   ]
  },
  {
   "cell_type": "code",
   "execution_count": 5,
   "id": "266a1940-82c0-4f24-bb7f-2afc8f67b12e",
   "metadata": {},
   "outputs": [
    {
     "name": "stdout",
     "output_type": "stream",
     "text": [
      "Total new locus tags mapped: 3817\n",
      "Unique old locus tags used: 3792\n",
      "Old locus tags with duplications: 23\n"
     ]
    }
   ],
   "source": [
    "blast_results = pd.read_csv(\"GCF_026185275.1_ASM2618527v1_genomic_vs_GCF_000195955.2_ASM19595v2_genomic.tab\", sep='\\t', \n",
    "                           names=[\"query\", \"subject\", \"pident\", \"qcovs\", \"length\", \"evalue\", \"bitscore\"])\n",
    "\n",
    "filtered_results = blast_results[(blast_results['pident'] >= 97) & \n",
    "                                (blast_results['qcovs'] >= 97)]\n",
    "\n",
    "new_to_old_mapping = {}\n",
    "for query, group in filtered_results.groupby('query'):\n",
    "    # Sort by bitscore (descending) and get the top hit\n",
    "    best_hit = group.sort_values('bitscore', ascending=False).iloc[0]\n",
    "    new_to_old_mapping[query] = best_hit['subject']  # subject is the old locus tag\n",
    "\n",
    "numbered_mapping = {}\n",
    "\n",
    "old_tag_counts = {}\n",
    "for new_tag, old_tag in new_to_old_mapping.items():\n",
    "    if old_tag not in old_tag_counts:\n",
    "        old_tag_counts[old_tag] = 1\n",
    "    else:\n",
    "        old_tag_counts[old_tag] += 1\n",
    "\n",
    "old_tag_current_number = {}\n",
    "for new_tag, old_tag in new_to_old_mapping.items():\n",
    "    count = old_tag_counts[old_tag]\n",
    "    if count > 1:\n",
    "        if old_tag not in old_tag_current_number:\n",
    "            old_tag_current_number[old_tag] = 1\n",
    "        else:\n",
    "            old_tag_current_number[old_tag] += 1\n",
    "        numbered_old_tag = f\"{old_tag}.{old_tag_current_number[old_tag]}\"\n",
    "    else:\n",
    "        numbered_old_tag = old_tag\n",
    "    numbered_mapping[new_tag] = numbered_old_tag\n",
    "\n",
    "with open(\"GCF_026185275.1_ASM2618527v1_genomic_locus_tags_from_GCF_000195955.2_ASM19595v2_genomic.tsv\", \"w\") as f:\n",
    "    f.write(\"new_locus_tag\\told_locus_tag\\n\")\n",
    "    for new_tag, numbered_old_tag in numbered_mapping.items():\n",
    "        f.write(f\"{new_tag}\\t{numbered_old_tag}\\n\")\n",
    "\n",
    "# Print statistics\n",
    "print(f\"Total new locus tags mapped: {len(new_to_old_mapping)}\")\n",
    "print(f\"Unique old locus tags used: {len(set(new_to_old_mapping.values()))}\")\n",
    "print(f\"Old locus tags with duplications: {sum(1 for tag, count in old_tag_counts.items() if count > 1)}\")\n"
   ]
  },
  {
   "cell_type": "code",
   "execution_count": null,
   "id": "e9e8d745-2390-4ffa-9739-2251e0b93a71",
   "metadata": {},
   "outputs": [],
   "source": []
  }
 ],
 "metadata": {
  "kernelspec": {
   "display_name": "Python (locus-tag-mapper)",
   "language": "python",
   "name": "locus-tag-mapper"
  },
  "language_info": {
   "codemirror_mode": {
    "name": "ipython",
    "version": 3
   },
   "file_extension": ".py",
   "mimetype": "text/x-python",
   "name": "python",
   "nbconvert_exporter": "python",
   "pygments_lexer": "ipython3",
   "version": "3.12.9"
  }
 },
 "nbformat": 4,
 "nbformat_minor": 5
}
