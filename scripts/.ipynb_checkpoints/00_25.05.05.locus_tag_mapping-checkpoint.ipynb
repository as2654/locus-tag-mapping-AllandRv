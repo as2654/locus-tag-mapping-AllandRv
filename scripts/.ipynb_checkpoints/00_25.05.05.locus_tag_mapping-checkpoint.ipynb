{
 "cells": [
  {
   "cell_type": "code",
   "execution_count": 10,
   "id": "d67ea5fd-e719-4805-8dbe-3b46686c6d18",
   "metadata": {},
   "outputs": [],
   "source": [
    "\"\"\"\n",
    "This script will read in the genbank formatted genomes and annotations \n",
    "and generated multi-fasta nucleotide files for each unique 'gene' feature \n",
    "in the old and new MTB reference genomes. \n",
    "\n",
    "OLD - GCF_000195955.2\n",
    "NEW - GCF_026185275.1\n",
    "\n",
    "Avi Shah, May 5th 2025\n",
    "W. Evan Johnson Lab\n",
    "\n",
    "\"\"\"\n",
    "import os\n",
    "from Bio import SeqIO\n",
    "from Bio.SeqRecord import SeqRecord\n",
    "from collections import Counter\n"
   ]
  },
  {
   "cell_type": "code",
   "execution_count": 6,
   "id": "b49eca64-884f-41f5-9bba-c1538051cba5",
   "metadata": {},
   "outputs": [
    {
     "name": "stdout",
     "output_type": "stream",
     "text": [
      "/scratch/as2654/AllandRv-2025\n",
      "['GCF_026185275.1_ASM2618527v1_genomic.gbff', '.ipynb_checkpoints', '01_get_features_fasta.py', 'GCF_000195955.2_ASM19595v2_genomic.gbff', '25.05.05.locus_tag_mapping.ipynb']\n"
     ]
    }
   ],
   "source": [
    "print(os.getcwd())\n",
    "print(os.listdir(\".\"))\n",
    "old_gbk_path = 'GCF_000195955.2_ASM19595v2_genomic.gbff'\n",
    "new_gbk_path = 'GCF_026185275.1_ASM2618527v1_genomic.gbff'"
   ]
  },
  {
   "cell_type": "code",
   "execution_count": 9,
   "id": "157b0ded-a620-4cf7-a4f2-11ff13f8755b",
   "metadata": {},
   "outputs": [
    {
     "name": "stdout",
     "output_type": "stream",
     "text": [
      "Analyzing file: GCF_000195955.2_ASM19595v2_genomic.gbff\n",
      "Analyzing record: NC_000962.3, length: 4411532 bp\n",
      "Unique locus tags in record NC_000962.3: 4008\n",
      "\n",
      "Feature type counts:\n",
      "gene: 4008\n",
      "CDS: 3906\n",
      "repeat_region: 262\n",
      "mobile_element: 56\n",
      "tRNA: 45\n",
      "misc_feature: 33\n",
      "ncRNA: 20\n",
      "rRNA: 3\n",
      "misc_RNA: 2\n",
      "source: 1\n",
      "\n",
      "Total features: 8336\n",
      "\n",
      "\n",
      "Analyzing file: GCF_026185275.1_ASM2618527v1_genomic.gbff\n",
      "Analyzing record: NZ_CP110619.1, length: 4417942 bp\n",
      "Unique locus tags in record NZ_CP110619.1: 4164\n",
      "\n",
      "Feature type counts:\n",
      "gene: 4164\n",
      "CDS: 4113\n",
      "tRNA: 45\n",
      "regulatory: 10\n",
      "rRNA: 3\n",
      "ncRNA: 2\n",
      "repeat_region: 2\n",
      "source: 1\n",
      "tmRNA: 1\n",
      "\n",
      "Total features: 8341\n"
     ]
    }
   ],
   "source": [
    "\n",
    "def count_feature_types(filename):\n",
    "    # Print the filename\n",
    "    print(f\"Analyzing file: {filename}\")\n",
    "    \n",
    "    # Initialize counter for feature types\n",
    "    feature_counts = Counter()\n",
    "\n",
    "    # Parse the GenBank file\n",
    "    for record in SeqIO.parse(filename, \"genbank\"):\n",
    "        print(f\"Analyzing record: {record.id}, length: {len(record.seq)} bp\")\n",
    "        \n",
    "        # Count feature types in this record\n",
    "        for feature in record.features:\n",
    "            feature_counts[feature.type] += 1\n",
    "\n",
    "        # Collect unique locus tags in this record\n",
    "        unique_locus_tags = set()\n",
    "        for feature in record.features:\n",
    "            if 'locus_tag' in feature.qualifiers:\n",
    "                # Fixing the bug: feature.qualifiers['locus_tag'] is a list, so we need [0]\n",
    "                unique_locus_tags.add(feature.qualifiers['locus_tag'][0])\n",
    "\n",
    "        # Print the number of unique locus tags\n",
    "        print(f\"Unique locus tags in record {record.id}: {len(unique_locus_tags)}\")\n",
    "\n",
    "    # Display the results\n",
    "    print(\"\\nFeature type counts:\")\n",
    "    for feature_type, count in feature_counts.most_common():\n",
    "        print(f\"{feature_type}: {count}\")\n",
    "\n",
    "    # Optional: Total feature count\n",
    "    print(f\"\\nTotal features: {sum(feature_counts.values())}\")\n",
    "\n",
    "\n",
    "count_feature_types(old_gbk_path)\n",
    "print(\"\\n\")\n",
    "count_feature_types(new_gbk_path)"
   ]
  },
  {
   "cell_type": "code",
   "execution_count": 12,
   "id": "4a212b01-8b34-41b0-a787-8da5f2770065",
   "metadata": {},
   "outputs": [
    {
     "name": "stdout",
     "output_type": "stream",
     "text": [
      "Processing record: NZ_CP110619.1\n",
      "Extracted 4164 genes to GCF_026185275.1_ASM2618527v1_genomic.fasta\n",
      "Processing record: NC_000962.3\n",
      "Extracted 4008 genes to GCF_000195955.2_ASM19595v2_genomic.fasta\n"
     ]
    },
    {
     "data": {
      "text/plain": [
       "4008"
      ]
     },
     "execution_count": 12,
     "metadata": {},
     "output_type": "execute_result"
    }
   ],
   "source": [
    "\n",
    "def genbank_genes_to_fasta(gbk_filename, fasta_filename=None):\n",
    "    \"\"\"\n",
    "    Extract all 'gene' features from a GenBank file and create a multi-FASTA file\n",
    "    with locus tags as sequence names.\n",
    "    \n",
    "    Parameters:\n",
    "    -----------\n",
    "    gbk_filename : str\n",
    "        Path to the GenBank file\n",
    "    fasta_filename : str, optional\n",
    "        Path for the output FASTA file. If None, will use gbk_filename with .fasta extension\n",
    "    \n",
    "    Returns:\n",
    "    --------\n",
    "    int\n",
    "        Number of genes extracted\n",
    "    \"\"\"\n",
    "    if fasta_filename is None:\n",
    "        fasta_filename = gbk_filename.rsplit('.', 1)[0] + '_genes.fasta'\n",
    "    \n",
    "    gene_records = []\n",
    "    gene_count = 0\n",
    "    \n",
    "    for record in SeqIO.parse(gbk_filename, \"genbank\"):\n",
    "        print(f\"Processing record: {record.id}\")\n",
    "        \n",
    "        # all gene features with locus tags\n",
    "        for feature in record.features:\n",
    "            if feature.type == \"gene\" and 'locus_tag' in feature.qualifiers:\n",
    "                locus_tag = feature.qualifiers['locus_tag'][0]\n",
    "                \n",
    "                # Extract sequence - Biopython handles reverse complement automatically\n",
    "                # when the feature is on the \"-\" strand!\n",
    "                gene_seq = feature.extract(record.seq)\n",
    "                \n",
    "                # a SeqRecord for this gene\n",
    "                gene_record = SeqRecord(\n",
    "                    gene_seq,\n",
    "                    id=locus_tag,\n",
    "                    description=\"\"\n",
    "                )\n",
    "                \n",
    "                gene_records.append(gene_record)\n",
    "                gene_count += 1\n",
    "    \n",
    "    # all genes w/ locus_tags to fna file\n",
    "    SeqIO.write(gene_records, fasta_filename, \"fasta\")\n",
    "    print(f\"Extracted {gene_count} genes to {fasta_filename}\")\n",
    "    \n",
    "    return gene_count\n",
    "\n",
    "\n",
    "genbank_genes_to_fasta(new_gbk_path, new_gbk_path.rsplit(\".gbff\", 1)[0] + \".fasta\")\n",
    "genbank_genes_to_fasta(old_gbk_path, old_gbk_path.rsplit(\".gbff\", 1)[0] + \".fasta\")"
   ]
  },
  {
   "cell_type": "code",
   "execution_count": null,
   "id": "dba3529d-0cf8-43d3-aaaa-448203c1d411",
   "metadata": {},
   "outputs": [],
   "source": []
  }
 ],
 "metadata": {
  "kernelspec": {
   "display_name": "Python (locus-tag-mapper)",
   "language": "python",
   "name": "locus-tag-mapper"
  },
  "language_info": {
   "codemirror_mode": {
    "name": "ipython",
    "version": 3
   },
   "file_extension": ".py",
   "mimetype": "text/x-python",
   "name": "python",
   "nbconvert_exporter": "python",
   "pygments_lexer": "ipython3",
   "version": "3.12.9"
  }
 },
 "nbformat": 4,
 "nbformat_minor": 5
}
